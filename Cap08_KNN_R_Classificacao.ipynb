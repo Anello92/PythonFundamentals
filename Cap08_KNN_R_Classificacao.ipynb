{
  "nbformat": 4,
  "nbformat_minor": 0,
  "metadata": {
    "colab": {
      "name": "Cap08-KNN-R-Classificacao.ipynb",
      "provenance": []
    },
    "kernelspec": {
      "name": "python3",
      "display_name": "Python 3"
    }
  },
  "cells": [
    {
      "cell_type": "code",
      "metadata": {
        "id": "2h-2I4CviFCR",
        "colab_type": "code",
        "colab": {}
      },
      "source": [
        "# activate R magic\n",
        "%load_ext rpy2.ipython"
      ],
      "execution_count": null,
      "outputs": []
    },
    {
      "cell_type": "markdown",
      "metadata": {
        "id": "7i7jdNRKtMno",
        "colab_type": "text"
      },
      "source": [
        "#**Classificação KNN em R** - Problema de Classificação Binária\n",
        "\n"
      ]
    },
    {
      "cell_type": "markdown",
      "metadata": {
        "id": "N6RyZICztmHw",
        "colab_type": "text"
      },
      "source": [
        "##Prevendo o resultado do índice Standard & Poor's 500"
      ]
    },
    {
      "cell_type": "code",
      "metadata": {
        "id": "PbpBG0YFtlXl",
        "colab_type": "code",
        "colab": {}
      },
      "source": [
        "# Obs: Caso tenha problemas com a acentuação, consulte este link:\n",
        "# https://support.rstudio.com/hc/en-us/articles/200532197-Character-Encoding"
      ],
      "execution_count": null,
      "outputs": []
    },
    {
      "cell_type": "code",
      "metadata": {
        "id": "I-uv1_fjtGW9",
        "colab_type": "code",
        "colab": {}
      },
      "source": [
        "%%R\n",
        "# Instalando os pacotes\n",
        "install.packages(\"ISLR\")\n",
        "install.packages(\"caret\")\n",
        "install.packages(\"e1071\")\n",
        "library(ISLR)\n",
        "library(caret)\n",
        "library(e10721)"
      ],
      "execution_count": null,
      "outputs": []
    },
    {
      "cell_type": "code",
      "metadata": {
        "id": "560jPfxltGTZ",
        "colab_type": "code",
        "colab": {}
      },
      "source": [
        "%%R\n",
        "# Definindo o seed\n",
        "set.seed(300)"
      ],
      "execution_count": 3,
      "outputs": []
    },
    {
      "cell_type": "markdown",
      "metadata": {
        "id": "UlrCUEBguLCb",
        "colab_type": "text"
      },
      "source": [
        "## Carregando e Explorando Dataset"
      ]
    },
    {
      "cell_type": "code",
      "metadata": {
        "id": "8dydxWDMtGQE",
        "colab_type": "code",
        "colab": {
          "base_uri": "https://localhost:8080/",
          "height": 390
        },
        "outputId": "07ccd4e6-96ec-46cb-e1ea-3ff551ac0da4"
      },
      "source": [
        "%%R\n",
        "# Resumo geral do dataset\n",
        "?Smarket\n",
        "summary(Smarket)"
      ],
      "execution_count": 4,
      "outputs": [
        {
          "output_type": "stream",
          "text": [
            "      Year           Lag1                Lag2                Lag3          \n",
            " Min.   :2001   Min.   :-4.922000   Min.   :-4.922000   Min.   :-4.922000  \n",
            " 1st Qu.:2002   1st Qu.:-0.639500   1st Qu.:-0.639500   1st Qu.:-0.640000  \n",
            " Median :2003   Median : 0.039000   Median : 0.039000   Median : 0.038500  \n",
            " Mean   :2003   Mean   : 0.003834   Mean   : 0.003919   Mean   : 0.001716  \n",
            " 3rd Qu.:2004   3rd Qu.: 0.596750   3rd Qu.: 0.596750   3rd Qu.: 0.596750  \n",
            " Max.   :2005   Max.   : 5.733000   Max.   : 5.733000   Max.   : 5.733000  \n",
            "      Lag4                Lag5              Volume           Today          \n",
            " Min.   :-4.922000   Min.   :-4.92200   Min.   :0.3561   Min.   :-4.922000  \n",
            " 1st Qu.:-0.640000   1st Qu.:-0.64000   1st Qu.:1.2574   1st Qu.:-0.639500  \n",
            " Median : 0.038500   Median : 0.03850   Median :1.4229   Median : 0.038500  \n",
            " Mean   : 0.001636   Mean   : 0.00561   Mean   :1.4783   Mean   : 0.003138  \n",
            " 3rd Qu.: 0.596750   3rd Qu.: 0.59700   3rd Qu.:1.6417   3rd Qu.: 0.596750  \n",
            " Max.   : 5.733000   Max.   : 5.73300   Max.   :3.1525   Max.   : 5.733000  \n",
            " Direction \n",
            " Down:602  \n",
            " Up  :648  \n",
            "           \n",
            "           \n",
            "           \n",
            "           \n"
          ],
          "name": "stdout"
        }
      ]
    },
    {
      "cell_type": "code",
      "metadata": {
        "id": "JV1AVuGVtGCO",
        "colab_type": "code",
        "colab": {
          "base_uri": "https://localhost:8080/",
          "height": 195
        },
        "outputId": "605cda1a-90f4-4d07-8192-8f116efb513f"
      },
      "source": [
        "%%R\n",
        "str(Smarket)"
      ],
      "execution_count": 5,
      "outputs": [
        {
          "output_type": "stream",
          "text": [
            "'data.frame':\t1250 obs. of  9 variables:\n",
            " $ Year     : num  2001 2001 2001 2001 2001 ...\n",
            " $ Lag1     : num  0.381 0.959 1.032 -0.623 0.614 ...\n",
            " $ Lag2     : num  -0.192 0.381 0.959 1.032 -0.623 ...\n",
            " $ Lag3     : num  -2.624 -0.192 0.381 0.959 1.032 ...\n",
            " $ Lag4     : num  -1.055 -2.624 -0.192 0.381 0.959 ...\n",
            " $ Lag5     : num  5.01 -1.055 -2.624 -0.192 0.381 ...\n",
            " $ Volume   : num  1.19 1.3 1.41 1.28 1.21 ...\n",
            " $ Today    : num  0.959 1.032 -0.623 0.614 0.213 ...\n",
            " $ Direction: Factor w/ 2 levels \"Down\",\"Up\": 2 2 1 2 2 2 1 2 2 2 ...\n"
          ],
          "name": "stdout"
        }
      ]
    },
    {
      "cell_type": "code",
      "metadata": {
        "id": "FluIcN5etF_i",
        "colab_type": "code",
        "colab": {
          "base_uri": "https://localhost:8080/",
          "height": 141
        },
        "outputId": "aa0e3000-3da7-4c49-a0a5-7e1ade06ed4c"
      },
      "source": [
        "%%R\n",
        "head(Smarket)"
      ],
      "execution_count": 6,
      "outputs": [
        {
          "output_type": "stream",
          "text": [
            "  Year   Lag1   Lag2   Lag3   Lag4   Lag5 Volume  Today Direction\n",
            "1 2001  0.381 -0.192 -2.624 -1.055  5.010 1.1913  0.959        Up\n",
            "2 2001  0.959  0.381 -0.192 -2.624 -1.055 1.2965  1.032        Up\n",
            "3 2001  1.032  0.959  0.381 -0.192 -2.624 1.4112 -0.623      Down\n",
            "4 2001 -0.623  1.032  0.959  0.381 -0.192 1.2760  0.614        Up\n",
            "5 2001  0.614 -0.623  1.032  0.959  0.381 1.2057  0.213        Up\n",
            "6 2001  0.213  0.614 -0.623  1.032  0.959 1.3491  1.392        Up\n"
          ],
          "name": "stdout"
        }
      ]
    },
    {
      "cell_type": "code",
      "metadata": {
        "id": "JLBOq_IXtF9A",
        "colab_type": "code",
        "colab": {}
      },
      "source": [
        "%%R\n",
        "#View(Smarket)"
      ],
      "execution_count": null,
      "outputs": []
    },
    {
      "cell_type": "markdown",
      "metadata": {
        "id": "4dkZ5quXuqQb",
        "colab_type": "text"
      },
      "source": [
        "##Split dataset em Treino e Teste"
      ]
    },
    {
      "cell_type": "code",
      "metadata": {
        "id": "nESQJUx3tF5d",
        "colab_type": "code",
        "colab": {}
      },
      "source": [
        "%%R\n",
        "?createDataPartition # Função do pacote {caret} similar ao train_test_split() em Python\n",
        "# y: variável \"Direction\"\n",
        "# p: proporção da divisão dos dados\n",
        "# false: não desejamos formato de lista\n",
        "\n",
        "# Um índice é criado a partir da função abaixo\n",
        "indxTrain <- createDataPartition(y = Smarket$Direction, \n",
        "                                 p = 0.75,\n",
        "                                 list = FALSE)\n",
        "#View(indxTrain)"
      ],
      "execution_count": 8,
      "outputs": []
    },
    {
      "cell_type": "code",
      "metadata": {
        "id": "tGm_4ddwvAUX",
        "colab_type": "code",
        "colab": {}
      },
      "source": [
        "%%R\n",
        "\n",
        "#usar índice para extrair os dados de treino\n",
        "dados_treino <- Smarket[indxTrain,] # retornar apenas linhas que contenham esse índice, retornar todas as colunas\n",
        "\n",
        "#usar a diferença do índice para extrair dados de teste\n",
        "dados_teste <- Smarket[-indxTrain,] # retornar apenas linhas que não contenham esse índice, retornar todas as colunas\n"
      ],
      "execution_count": 9,
      "outputs": []
    },
    {
      "cell_type": "code",
      "metadata": {
        "id": "JaG6GBtdvAO9",
        "colab_type": "code",
        "colab": {
          "base_uri": "https://localhost:8080/",
          "height": 35
        },
        "outputId": "de7316aa-e429-4fd2-9f9a-fd85dc169633"
      },
      "source": [
        "%%R\n",
        "class(dados_treino)"
      ],
      "execution_count": 10,
      "outputs": [
        {
          "output_type": "stream",
          "text": [
            "[1] \"data.frame\"\n"
          ],
          "name": "stdout"
        }
      ]
    },
    {
      "cell_type": "code",
      "metadata": {
        "id": "jq37NDak8dwn",
        "colab_type": "code",
        "colab": {
          "base_uri": "https://localhost:8080/",
          "height": 195
        },
        "outputId": "bff951c4-6fa5-4ffb-ab99-773babbcbb0f"
      },
      "source": [
        "%%R\n",
        "str(dados_treino)"
      ],
      "execution_count": 14,
      "outputs": [
        {
          "output_type": "stream",
          "text": [
            "'data.frame':\t938 obs. of  9 variables:\n",
            " $ Year     : num  2001 2001 2001 2001 2001 ...\n",
            " $ Lag1     : num  0.381 0.959 1.032 -0.623 0.614 ...\n",
            " $ Lag2     : num  -0.192 0.381 0.959 1.032 -0.623 ...\n",
            " $ Lag3     : num  -2.624 -0.192 0.381 0.959 1.032 ...\n",
            " $ Lag4     : num  -1.055 -2.624 -0.192 0.381 0.959 ...\n",
            " $ Lag5     : num  5.01 -1.055 -2.624 -0.192 0.381 ...\n",
            " $ Volume   : num  1.19 1.3 1.41 1.28 1.21 ...\n",
            " $ Today    : num  0.959 1.032 -0.623 0.614 0.213 ...\n",
            " $ Direction: Factor w/ 2 levels \"Down\",\"Up\": 2 2 1 2 2 2 1 2 2 2 ...\n"
          ],
          "name": "stdout"
        }
      ]
    },
    {
      "cell_type": "code",
      "metadata": {
        "id": "Msb4ZnorvALr",
        "colab_type": "code",
        "colab": {
          "base_uri": "https://localhost:8080/",
          "height": 35
        },
        "outputId": "9ed88b67-295d-4dc7-9b66-f40a55ddbeff"
      },
      "source": [
        "%%R\n",
        "class(dados_teste)"
      ],
      "execution_count": 11,
      "outputs": [
        {
          "output_type": "stream",
          "text": [
            "[1] \"data.frame\"\n"
          ],
          "name": "stdout"
        }
      ]
    },
    {
      "cell_type": "code",
      "metadata": {
        "id": "5c_pFaQq8Xoz",
        "colab_type": "code",
        "colab": {
          "base_uri": "https://localhost:8080/",
          "height": 195
        },
        "outputId": "4db980ba-4402-49e7-8e80-b2dd5011e4fc"
      },
      "source": [
        "%%R\n",
        "str(dados_teste)"
      ],
      "execution_count": 13,
      "outputs": [
        {
          "output_type": "stream",
          "text": [
            "'data.frame':\t312 obs. of  9 variables:\n",
            " $ Year     : num  2001 2001 2001 2001 2001 ...\n",
            " $ Lag1     : num  -0.498 -0.218 -0.568 -4.318 -1.246 ...\n",
            " $ Lag2     : num  0.287 -0.865 0.104 -2.476 1.078 ...\n",
            " $ Lag3     : num  1.303 1.183 -1.431 0.226 -0.463 ...\n",
            " $ Lag4     : num  0.027 -1.334 -0.766 0.645 -2.443 ...\n",
            " $ Lag5     : num  -0.403 -0.623 1.749 0.998 2.557 ...\n",
            " $ Volume   : num  1.26 1.15 1.29 1.23 1.25 ...\n",
            " $ Today    : num  -0.189 0.812 0.586 1.483 -3.439 ...\n",
            " $ Direction: Factor w/ 2 levels \"Down\",\"Up\": 1 2 2 2 1 1 2 1 2 1 ...\n"
          ],
          "name": "stdout"
        }
      ]
    },
    {
      "cell_type": "markdown",
      "metadata": {
        "id": "F10mt7YlvHSO",
        "colab_type": "text"
      },
      "source": [
        "##Verificando a distribuição dos dados originais e das partições\n"
      ]
    },
    {
      "cell_type": "markdown",
      "metadata": {
        "id": "_C03m3pO8vhX",
        "colab_type": "text"
      },
      "source": [
        "Ao trabalhar com classificação devemos tomar o cuidado p/ que os dados estejam com as **classes balanceadas**. "
      ]
    },
    {
      "cell_type": "code",
      "metadata": {
        "id": "oXpglXOlvPH4",
        "colab_type": "code",
        "colab": {
          "base_uri": "https://localhost:8080/",
          "height": 70
        },
        "outputId": "8b023e95-e22f-4d86-d96a-de776abeada0"
      },
      "source": [
        "%%R\n",
        "# Essa função calcula uma tabela de proporção \n",
        "\n",
        "# Neste caso pegamos a variável Direction(y), multiplicando por 100 p/ retornar o valor percentual\n",
        "prop.table(table(Smarket$Direction)) * 100\n",
        "\n",
        "# 48% dos registros conjunto de dados original pertence à classe Down\n",
        "# 52% dos registros conjunto de dados original pertence à classe Up\n",
        "# Dataset praticamente balanceado"
      ],
      "execution_count": 15,
      "outputs": [
        {
          "output_type": "stream",
          "text": [
            "\n",
            " Down    Up \n",
            "48.16 51.84 \n"
          ],
          "name": "stdout"
        }
      ]
    },
    {
      "cell_type": "code",
      "metadata": {
        "id": "UEk7_2AfvX38",
        "colab_type": "code",
        "colab": {
          "base_uri": "https://localhost:8080/",
          "height": 70
        },
        "outputId": "e952fcfd-e226-4f46-9c30-da9f7ff5e45d"
      },
      "source": [
        "%%R\n",
        "\n",
        "# Temos praticamente a mesma distribuição \n",
        "# O balanceamento que temos nos dados originais continua existindo nos dados de treino e teste\n",
        "prop.table(table(dados_treino$Direction)) * 100"
      ],
      "execution_count": 16,
      "outputs": [
        {
          "output_type": "stream",
          "text": [
            "\n",
            "    Down       Up \n",
            "48.18763 51.81237 \n"
          ],
          "name": "stdout"
        }
      ]
    },
    {
      "cell_type": "markdown",
      "metadata": {
        "id": "A2oTW6f6vc-B",
        "colab_type": "text"
      },
      "source": [
        "## Correlação entre as variáveis **preditoras** - como as variáveis **X** estão relacionadas"
      ]
    },
    {
      "cell_type": "code",
      "metadata": {
        "id": "NBQ73Sgqv0MK",
        "colab_type": "code",
        "colab": {
          "base_uri": "https://localhost:8080/",
          "height": 337
        },
        "outputId": "f2dc55f7-6dc1-4dd8-d7fc-15283d5d742c"
      },
      "source": [
        "%%R\n",
        "\n",
        "# conjunto de dados de treino, pego todas as colunas exceto \"Direction\". \n",
        "# abre e fecha colchetes é a notação de slicing/indexação/fatiamento\n",
        "\n",
        "scrCor <- cor(dados_treino[,names(dados_treino) != \"Direction\"]) # Retornar todas as linhas, retorar os nomes da coluna dados_treino diferente \"Direction\"\n",
        "descrCor"
      ],
      "execution_count": 17,
      "outputs": [
        {
          "output_type": "stream",
          "text": [
            "              Year         Lag1         Lag2         Lag3        Lag4\n",
            "Year   1.000000000  0.006301405  0.005857983  0.037095808  0.03339245\n",
            "Lag1   0.006301405  1.000000000 -0.016854134  0.026741186  0.02296069\n",
            "Lag2   0.005857983 -0.016854134  1.000000000 -0.001642703  0.00401454\n",
            "Lag3   0.037095808  0.026741186 -0.001642703  1.000000000 -0.03783322\n",
            "Lag4   0.033392448  0.022960693  0.004014540 -0.037833222  1.00000000\n",
            "Lag5   0.024529488 -0.004112747 -0.024984509 -0.037495551 -0.03205524\n",
            "Volume 0.547778306  0.000165199 -0.072393496 -0.014219428 -0.02749414\n",
            "Today  0.040808070  0.011363546  0.003901825 -0.013189840 -0.01452663\n",
            "               Lag5       Volume        Today\n",
            "Year    0.024529488  0.547778306  0.040808070\n",
            "Lag1   -0.004112747  0.000165199  0.011363546\n",
            "Lag2   -0.024984509 -0.072393496  0.003901825\n",
            "Lag3   -0.037495551 -0.014219428 -0.013189840\n",
            "Lag4   -0.032055236 -0.027494142 -0.014526634\n",
            "Lag5    1.000000000 -0.008358187 -0.015248038\n",
            "Volume -0.008358187  1.000000000  0.018672777\n",
            "Today  -0.015248038  0.018672777  1.000000000\n"
          ],
          "name": "stdout"
        }
      ]
    },
    {
      "cell_type": "markdown",
      "metadata": {
        "id": "8S_8GbGov5fX",
        "colab_type": "text"
      },
      "source": [
        "## Normalização dos Dados (Center e Scale)\n",
        "\n",
        "- A transformação **\"scale\"** calcula o desvio padrão para um atributo e divide cada valor por esse desvio padrão.\n",
        "\n",
        "\n",
        "- A transformação **\"center\"** calcula a média de um atributo e a subtrai de cada valor.\n"
      ]
    },
    {
      "cell_type": "markdown",
      "metadata": {
        "id": "GZbQko3mwbHB",
        "colab_type": "text"
      },
      "source": [
        "##Normalização"
      ]
    },
    {
      "cell_type": "code",
      "metadata": {
        "id": "Wb2_sUmzwYJY",
        "colab_type": "code",
        "colab": {}
      },
      "source": [
        "%%R\n",
        "# Função de Normalização\n",
        "scale.features <- function(df, variables){\n",
        "  for (variable in variables){\n",
        "    df[[variable]] <- scale(df[[variable]], center = T, scale = T)\n",
        "  }\n",
        "  return(df)\n",
        "}"
      ],
      "execution_count": 18,
      "outputs": []
    },
    {
      "cell_type": "markdown",
      "metadata": {
        "id": "jSSoQUgdwdVV",
        "colab_type": "text"
      },
      "source": [
        "##Removendo a variável target dos Dados Treino e Teste"
      ]
    },
    {
      "cell_type": "code",
      "metadata": {
        "id": "vhXDKeY_waN5",
        "colab_type": "code",
        "colab": {}
      },
      "source": [
        "%%R\n",
        "\n",
        "# Do dataset de Treino - Retornar todas as colunas, exceto \"Direction\"\n",
        "numeric.vars_treino <- colnames(treinoX <- dados_treino[,names(dados_treino) != \"Direction\"])\n",
        "\n",
        "# Do dataset de Teste - Retornar todas as colunas, exceto \"Direction\"\n",
        "numeric.vars_teste <- colnames(testeX <- dados_teste[,names(dados_teste) != \"Direction\"])"
      ],
      "execution_count": 20,
      "outputs": []
    },
    {
      "cell_type": "markdown",
      "metadata": {
        "id": "3k-aPWGtwpbf",
        "colab_type": "text"
      },
      "source": [
        "## Aplicando normalização às variáveis preditoras de Treino e Teste\n"
      ]
    },
    {
      "cell_type": "code",
      "metadata": {
        "id": "ZPtRLLyzw8VI",
        "colab_type": "code",
        "colab": {}
      },
      "source": [
        "%%R\n",
        "\n",
        "dados_treino_scaled <- scale.features(dados_treino, numeric.vars_treino)\n",
        "\n",
        "dados_teste_scaled <- scale.features(dados_teste, numeric.vars_teste)"
      ],
      "execution_count": 22,
      "outputs": []
    },
    {
      "cell_type": "code",
      "metadata": {
        "id": "Umpq0UbXxAsY",
        "colab_type": "code",
        "colab": {
          "base_uri": "https://localhost:8080/",
          "height": 266
        },
        "outputId": "e7aea8eb-2be4-43b1-875e-0f1ffa33f7e3"
      },
      "source": [
        "%%R\n",
        "#View(dados_treino_scaled)\n",
        "head(dados_treino_scaled)"
      ],
      "execution_count": 23,
      "outputs": [
        {
          "output_type": "stream",
          "text": [
            "       Year       Lag1       Lag2       Lag3       Lag4       Lag5     Volume\n",
            "1 -1.407243  0.3179143 -0.1931838 -2.2377786 -0.9277828  4.3033729 -0.7885484\n",
            "2 -1.407243  0.8196542  0.3181643 -0.1524564 -2.3002260 -0.9315911 -0.5008548\n",
            "3 -1.407243  0.8830227  0.8339744  0.3388634 -0.1728952 -2.2858629 -0.1871812\n",
            "4 -1.407243 -0.5536200  0.8991199  0.8344704  0.3283221 -0.1866984 -0.5569167\n",
            "5 -1.407243  0.5201728 -0.5778104  0.8970644  0.8339130  0.3078827 -0.7491683\n",
            "6 -1.407243  0.1720799  0.5260946 -0.5220180  0.8977679  0.8067795 -0.3570079\n",
            "       Today Direction\n",
            "1  0.8288915        Up\n",
            "2  0.8924047        Up\n",
            "3 -0.5475185      Down\n",
            "4  0.5287263        Up\n",
            "5  0.1798385        Up\n",
            "6  1.2056207        Up\n"
          ],
          "name": "stdout"
        }
      ]
    },
    {
      "cell_type": "code",
      "metadata": {
        "id": "aXWnUFQhxHhL",
        "colab_type": "code",
        "colab": {
          "base_uri": "https://localhost:8080/",
          "height": 266
        },
        "outputId": "0b736fb2-4002-44cb-bdf8-69d7dfcc52f4"
      },
      "source": [
        "%%R\n",
        "#View(dados_teste_scaled)\n",
        "head(dados_teste_scaled)"
      ],
      "execution_count": 24,
      "outputs": [
        {
          "output_type": "stream",
          "text": [
            "        Year       Lag1       Lag2       Lag3        Lag4       Lag5     Volume\n",
            "12 -1.505584 -0.4306850  0.2917888  1.1916046  0.03323015 -0.3164266 -0.6278999\n",
            "26 -1.505584 -0.1735438 -0.6828672  1.0775244 -1.17435106 -0.5139594 -0.9405817\n",
            "37 -1.505584 -0.4949703  0.1369607 -1.4075220 -0.67037888  1.6158032 -0.5233823\n",
            "43 -1.505584 -3.9388258 -2.0458627  0.1677350  0.58156607  0.9414981 -0.7120946\n",
            "58 -1.505584 -1.1176194  0.9610188 -0.4872753 -2.15833898  2.3412872 -0.6369000\n",
            "59 -1.505584 -3.1315861 -1.0052144  0.9777042 -0.40153457 -2.1480942 -0.2559915\n",
            "        Today Direction\n",
            "12 -0.1663386      Down\n",
            "26  0.7453446        Up\n",
            "37  0.5395101        Up\n",
            "43  1.3564729        Up\n",
            "58 -3.1263490      Down\n",
            "59 -0.2583266      Down\n"
          ],
          "name": "stdout"
        }
      ]
    },
    {
      "cell_type": "markdown",
      "metadata": {
        "id": "QfxN4Espw-rJ",
        "colab_type": "text"
      },
      "source": [
        "##Construção e Treinamento do Modelo"
      ]
    },
    {
      "cell_type": "code",
      "metadata": {
        "id": "NXcMEhfOxWZE",
        "colab_type": "code",
        "colab": {}
      },
      "source": [
        "%%R\n",
        "set.seed(400)\n",
        "#?trainControl\n",
        "#?train"
      ],
      "execution_count": 33,
      "outputs": []
    },
    {
      "cell_type": "markdown",
      "metadata": {
        "id": "hOw_qJFLxeJN",
        "colab_type": "text"
      },
      "source": [
        "## Arquivo de controle\n"
      ]
    },
    {
      "cell_type": "code",
      "metadata": {
        "id": "scQx0lyVxix1",
        "colab_type": "code",
        "colab": {}
      },
      "source": [
        "%%R\n",
        "\n",
        "# Parâmetros de controle para o treinamento\n",
        "ctrl <- trainControl(method = \"repeatedcv\", repeats = 3) "
      ],
      "execution_count": 34,
      "outputs": []
    },
    {
      "cell_type": "markdown",
      "metadata": {
        "id": "Ep7Wx9Vuxlcu",
        "colab_type": "text"
      },
      "source": [
        "##Criação do Modelo"
      ]
    },
    {
      "cell_type": "code",
      "metadata": {
        "id": "uOiPkiWKxkxK",
        "colab_type": "code",
        "colab": {}
      },
      "source": [
        "%%R\n",
        "knn_v1 <- train(Direction ~ ., \n",
        "                data = dados_treino_scaled,  # dados normalizados\n",
        "                method = \"knn\",              # aplicar train com método knn \n",
        "                trControl = ctrl, \n",
        "                # preProcess = c(\"center\",\"scale\"), # Isso é a normalização! \n",
        "                tuneLength = 20)"
      ],
      "execution_count": 35,
      "outputs": []
    },
    {
      "cell_type": "markdown",
      "metadata": {
        "id": "f3RU-TlmyNbv",
        "colab_type": "text"
      },
      "source": [
        "---"
      ]
    },
    {
      "cell_type": "markdown",
      "metadata": {
        "id": "_UbWxKPUxqS0",
        "colab_type": "text"
      },
      "source": [
        "#Avaliação do Modelo"
      ]
    },
    {
      "cell_type": "markdown",
      "metadata": {
        "id": "LIjpUeDFx06V",
        "colab_type": "text"
      },
      "source": [
        "##Modelo KNN"
      ]
    },
    {
      "cell_type": "code",
      "metadata": {
        "id": "IgoJYqUVx9Ee",
        "colab_type": "code",
        "colab": {
          "base_uri": "https://localhost:8080/",
          "height": 639
        },
        "outputId": "5a65658d-9114-451d-de17-1ec97a89037c"
      },
      "source": [
        "%%R\n",
        "knn_v1"
      ],
      "execution_count": 36,
      "outputs": [
        {
          "output_type": "stream",
          "text": [
            "k-Nearest Neighbors \n",
            "\n",
            "938 samples\n",
            "  8 predictor\n",
            "  2 classes: 'Down', 'Up' \n",
            "\n",
            "No pre-processing\n",
            "Resampling: Cross-Validated (10 fold, repeated 3 times) \n",
            "Summary of sample sizes: 844, 844, 844, 844, 844, 844, ... \n",
            "Resampling results across tuning parameters:\n",
            "\n",
            "  k   Accuracy   Kappa    \n",
            "   5  0.8621419  0.7235930\n",
            "   7  0.8635378  0.7260836\n",
            "   9  0.8774248  0.7539374\n",
            "  11  0.8813258  0.7617402\n",
            "  13  0.8933869  0.7860880\n",
            "  15  0.8948016  0.7887725\n",
            "  17  0.8944316  0.7879554\n",
            "  19  0.8958463  0.7907296\n",
            "  21  0.9001018  0.7992784\n",
            "  23  0.9015432  0.8021679\n",
            "  25  0.9011848  0.8014202\n",
            "  27  0.9033123  0.8057606\n",
            "  29  0.9082884  0.8157538\n",
            "  31  0.9033314  0.8056971\n",
            "  33  0.9022412  0.8035199\n",
            "  35  0.9029579  0.8049192\n",
            "  37  0.9011697  0.8012708\n",
            "  39  0.9008416  0.8006331\n",
            "  41  0.9022563  0.8034790\n",
            "  43  0.8994268  0.7977835\n",
            "\n",
            "Accuracy was used to select the optimal model using the largest value.\n",
            "The final value used for the model was k = 29.\n"
          ],
          "name": "stdout"
        }
      ]
    },
    {
      "cell_type": "markdown",
      "metadata": {
        "id": "4ivx0xSMx_fa",
        "colab_type": "text"
      },
      "source": [
        "##Número de Vizinhos x Acurácia"
      ]
    },
    {
      "cell_type": "code",
      "metadata": {
        "id": "mod8f1cmyEkT",
        "colab_type": "code",
        "colab": {
          "base_uri": "https://localhost:8080/",
          "height": 497
        },
        "outputId": "435e9d7e-3d5d-4d9b-fbc2-4ae565cf6c4f"
      },
      "source": [
        "%%R\n",
        "plot(knn_v1)\n",
        "# O melhor k = 29"
      ],
      "execution_count": 32,
      "outputs": [
        {
          "output_type": "display_data",
          "data": {
            "image/png": "[encoded data removed]"
          },
          "metadata": {
            "tags": []
          }
        }
      ]
    },
    {
      "cell_type": "markdown",
      "metadata": {
        "id": "50lUgU_GyGnK",
        "colab_type": "text"
      },
      "source": [
        "##Fazendo previsões"
      ]
    },
    {
      "cell_type": "code",
      "metadata": {
        "id": "_9mZBqOjyPyA",
        "colab_type": "code",
        "colab": {
          "base_uri": "https://localhost:8080/",
          "height": 408
        },
        "outputId": "48f09811-f37f-47ff-cc03-af449998b967"
      },
      "source": [
        "%%R\n",
        "knnPredict <- predict(knn_v1, newdata = dados_teste_scaled)\n",
        "knnPredict"
      ],
      "execution_count": 37,
      "outputs": [
        {
          "output_type": "stream",
          "text": [
            "  [1] Down Up   Up   Up   Down Up   Up   Down Up   Down Up   Up   Down Down Down\n",
            " [16] Up   Up   Up   Up   Up   Down Up   Up   Down Down Down Up   Down Up   Up  \n",
            " [31] Up   Up   Down Down Down Down Up   Down Up   Up   Down Up   Up   Down Down\n",
            " [46] Down Up   Up   Up   Up   Up   Down Up   Down Down Up   Down Up   Up   Up  \n",
            " [61] Down Down Down Down Up   Down Down Up   Up   Up   Down Down Up   Down Down\n",
            " [76] Up   Down Down Down Up   Down Up   Up   Down Up   Down Down Up   Down Up  \n",
            " [91] Up   Up   Up   Up   Up   Down Up   Down Up   Down Down Up   Down Up   Up  \n",
            "[106] Down Down Down Down Up   Down Up   Down Down Down Down Down Down Down Down\n",
            "[121] Up   Down Up   Down Down Up   Up   Up   Down Down Down Up   Up   Down Up  \n",
            "[136] Down Up   Down Up   Down Up   Up   Up   Up   Up   Down Down Up   Up   Up  \n",
            "[151] Up   Down Up   Down Down Up   Up   Down Up   Up   Down Up   Up   Up   Up  \n",
            "[166] Up   Down Down Up   Down Down Up   Up   Down Up   Up   Up   Up   Down Up  \n",
            "[181] Down Down Up   Down Up   Up   Up   Up   Up   Up   Down Down Up   Down Down\n",
            "[196] Down Up   Up   Up   Up   Down Up   Up   Up   Up   Up   Up   Up   Up   Up  \n",
            "[211] Up   Up   Up   Up   Up   Up   Down Down Up   Up   Up   Down Up   Up   Up  \n",
            "[226] Up   Up   Up   Up   Up   Up   Up   Up   Up   Up   Up   Up   Down Down Up  \n",
            "[241] Down Up   Down Up   Up   Up   Down Up   Down Up   Up   Down Up   Up   Up  \n",
            "[256] Up   Down Down Up   Down Up   Up   Up   Up   Up   Down Down Up   Up   Down\n",
            "[271] Up   Up   Down Down Down Up   Up   Up   Up   Up   Up   Up   Up   Down Up  \n",
            "[286] Down Down Up   Up   Down Up   Down Up   Up   Up   Up   Down Up   Down Up  \n",
            "[301] Up   Up   Up   Up   Down Up   Up   Down Up   Up   Up   Down\n",
            "Levels: Down Up\n"
          ],
          "name": "stdout"
        }
      ]
    },
    {
      "cell_type": "markdown",
      "metadata": {
        "id": "Oob5NpZgyRNe",
        "colab_type": "text"
      },
      "source": [
        "##Criando **Confusion Matrix**"
      ]
    },
    {
      "cell_type": "code",
      "metadata": {
        "id": "Wdh1a2qNyVZr",
        "colab_type": "code",
        "colab": {
          "base_uri": "https://localhost:8080/",
          "height": 497
        },
        "outputId": "50c4d805-977b-422c-af3f-e7866e3d951f"
      },
      "source": [
        "%%R\n",
        "confusionMatrix(knnPredict, dados_teste$Direction)"
      ],
      "execution_count": 38,
      "outputs": [
        {
          "output_type": "stream",
          "text": [
            "Confusion Matrix and Statistics\n",
            "\n",
            "          Reference\n",
            "Prediction Down  Up\n",
            "      Down  119   3\n",
            "      Up     31 159\n",
            "                                          \n",
            "               Accuracy : 0.891           \n",
            "                 95% CI : (0.8511, 0.9233)\n",
            "    No Information Rate : 0.5192          \n",
            "    P-Value [Acc > NIR] : < 2.2e-16       \n",
            "                                          \n",
            "                  Kappa : 0.7802          \n",
            "                                          \n",
            " Mcnemar's Test P-Value : 3.649e-06       \n",
            "                                          \n",
            "            Sensitivity : 0.7933          \n",
            "            Specificity : 0.9815          \n",
            "         Pos Pred Value : 0.9754          \n",
            "         Neg Pred Value : 0.8368          \n",
            "             Prevalence : 0.4808          \n",
            "         Detection Rate : 0.3814          \n",
            "   Detection Prevalence : 0.3910          \n",
            "      Balanced Accuracy : 0.8874          \n",
            "                                          \n",
            "       'Positive' Class : Down            \n",
            "                                          \n"
          ],
          "name": "stdout"
        }
      ]
    },
    {
      "cell_type": "markdown",
      "metadata": {
        "id": "zdRv9kEvyaYQ",
        "colab_type": "text"
      },
      "source": [
        "##Aplicando outras Métricas"
      ]
    },
    {
      "cell_type": "code",
      "metadata": {
        "id": "8JNuxUghycmf",
        "colab_type": "code",
        "colab": {}
      },
      "source": [
        "%%R\n",
        "# Arquivo de controle\n",
        "ctrl <- trainControl(method = \"repeatedcv\", \n",
        "                     repeats = 3, \n",
        "                     classProbs = TRUE, # retornar probabilidade de cada uma das classes\n",
        "                     summaryFunction = twoClassSummary) # classificação binária"
      ],
      "execution_count": 40,
      "outputs": []
    },
    {
      "cell_type": "markdown",
      "metadata": {
        "id": "xAqhWAZDyjvg",
        "colab_type": "text"
      },
      "source": [
        "##Treinamento do Modelo"
      ]
    },
    {
      "cell_type": "code",
      "metadata": {
        "id": "ylN_Ty0Wymss",
        "colab_type": "code",
        "colab": {}
      },
      "source": [
        "%%R\n",
        "\n",
        "# mudar a métrica usada para calcular todos os resultados do modelo\n",
        "knn_v2 <- train(Direction ~ ., \n",
        "                data = dados_treino_scaled, \n",
        "                method = \"knn\", \n",
        "                trControl = ctrl, \n",
        "                metric = \"ROC\", # Métrica ROC\n",
        "                # preProcess = c(\"center\",\"scale\"),  # Isso é a normalização\n",
        "                tuneLength = 20)"
      ],
      "execution_count": 41,
      "outputs": []
    },
    {
      "cell_type": "markdown",
      "metadata": {
        "id": "29VT88ynyoFH",
        "colab_type": "text"
      },
      "source": [
        "##Modelo KNN_v2\n",
        "\n"
      ]
    },
    {
      "cell_type": "code",
      "metadata": {
        "id": "si9zeVxTypvw",
        "colab_type": "code",
        "colab": {
          "base_uri": "https://localhost:8080/",
          "height": 639
        },
        "outputId": "8d97ba2f-80a1-4d65-cc22-bc0e3b9879cd"
      },
      "source": [
        "%%R\n",
        "knn_v2"
      ],
      "execution_count": 42,
      "outputs": [
        {
          "output_type": "stream",
          "text": [
            "k-Nearest Neighbors \n",
            "\n",
            "938 samples\n",
            "  8 predictor\n",
            "  2 classes: 'Down', 'Up' \n",
            "\n",
            "No pre-processing\n",
            "Resampling: Cross-Validated (10 fold, repeated 3 times) \n",
            "Summary of sample sizes: 844, 844, 845, 844, 845, 844, ... \n",
            "Resampling results across tuning parameters:\n",
            "\n",
            "  k   ROC        Sens       Spec     \n",
            "   5  0.9396148  0.8407890  0.8860402\n",
            "   7  0.9503120  0.8282931  0.9005244\n",
            "   9  0.9569417  0.8364090  0.9101332\n",
            "  11  0.9605227  0.8429952  0.9142574\n",
            "  13  0.9671739  0.8570209  0.9231009\n",
            "  15  0.9675336  0.8533333  0.9190193\n",
            "  17  0.9672238  0.8518519  0.9224632\n",
            "  19  0.9693994  0.8459098  0.9341128\n",
            "  21  0.9719837  0.8444283  0.9327239\n",
            "  23  0.9733303  0.8481643  0.9389031\n",
            "  25  0.9737567  0.8504026  0.9395408\n",
            "  27  0.9753607  0.8621900  0.9423611\n",
            "  29  0.9755339  0.8600000  0.9485969\n",
            "  31  0.9765474  0.8592432  0.9499575\n",
            "  33  0.9772893  0.8584219  0.9506519\n",
            "  35  0.9772544  0.8577295  0.9574830\n",
            "  37  0.9767468  0.8459098  0.9513180\n",
            "  39  0.9765452  0.8370370  0.9547477\n",
            "  41  0.9772212  0.8429630  0.9561083\n",
            "  43  0.9770076  0.8496135  0.9554280\n",
            "\n",
            "ROC was used to select the optimal model using the largest value.\n",
            "The final value used for the model was k = 33.\n"
          ],
          "name": "stdout"
        }
      ]
    },
    {
      "cell_type": "markdown",
      "metadata": {
        "id": "22yZO2dBQDlW",
        "colab_type": "text"
      },
      "source": [
        "A métrica escolhida p/ o modelo impacta no resultado final do modelo. \n"
      ]
    },
    {
      "cell_type": "markdown",
      "metadata": {
        "id": "6lw5PXqqyvh1",
        "colab_type": "text"
      },
      "source": [
        "##Número de Vizinhos vs. Acurácia"
      ]
    },
    {
      "cell_type": "code",
      "metadata": {
        "id": "jDL6PulHy0vR",
        "colab_type": "code",
        "colab": {
          "base_uri": "https://localhost:8080/",
          "height": 497
        },
        "outputId": "12d3ac25-32a7-468d-8aa1-ecb87e46d0f6"
      },
      "source": [
        "%%R\n",
        "plot(knn_v2, print.thres = 0.5, type=\"S\")"
      ],
      "execution_count": 43,
      "outputs": [
        {
          "output_type": "display_data",
          "data": {
            "image/png": "[encoded data removed]"
          },
          "metadata": {
            "tags": []
          }
        }
      ]
    },
    {
      "cell_type": "markdown",
      "metadata": {
        "id": "dgVPtyrMy2yN",
        "colab_type": "text"
      },
      "source": [
        "##Fazendo previsões\n"
      ]
    },
    {
      "cell_type": "code",
      "metadata": {
        "id": "UE4GKT08zCss",
        "colab_type": "code",
        "colab": {}
      },
      "source": [
        "%%R\n",
        "knnPredict <- predict(knn_v2, newdata = dados_teste_scaled)"
      ],
      "execution_count": 44,
      "outputs": []
    },
    {
      "cell_type": "markdown",
      "metadata": {
        "id": "3XiUE1DAzFPI",
        "colab_type": "text"
      },
      "source": [
        "##Criando Confusion Matrix"
      ]
    },
    {
      "cell_type": "code",
      "metadata": {
        "id": "M35ESZ7mzHfc",
        "colab_type": "code",
        "colab": {
          "base_uri": "https://localhost:8080/",
          "height": 497
        },
        "outputId": "2140aa5e-6b05-4a34-bbb7-f82e30e331fe"
      },
      "source": [
        "%%R\n",
        "\n",
        "# Acurácia subiu p/ quase 90%\n",
        "confusionMatrix(knnPredict, dados_teste$Direction)"
      ],
      "execution_count": 46,
      "outputs": [
        {
          "output_type": "stream",
          "text": [
            "Confusion Matrix and Statistics\n",
            "\n",
            "          Reference\n",
            "Prediction Down  Up\n",
            "      Down  121   3\n",
            "      Up     29 159\n",
            "                                          \n",
            "               Accuracy : 0.8974          \n",
            "                 95% CI : (0.8583, 0.9288)\n",
            "    No Information Rate : 0.5192          \n",
            "    P-Value [Acc > NIR] : < 2.2e-16       \n",
            "                                          \n",
            "                  Kappa : 0.7932          \n",
            "                                          \n",
            " Mcnemar's Test P-Value : 9.897e-06       \n",
            "                                          \n",
            "            Sensitivity : 0.8067          \n",
            "            Specificity : 0.9815          \n",
            "         Pos Pred Value : 0.9758          \n",
            "         Neg Pred Value : 0.8457          \n",
            "             Prevalence : 0.4808          \n",
            "         Detection Rate : 0.3878          \n",
            "   Detection Prevalence : 0.3974          \n",
            "      Balanced Accuracy : 0.8941          \n",
            "                                          \n",
            "       'Positive' Class : Down            \n",
            "                                          \n"
          ],
          "name": "stdout"
        }
      ]
    },
    {
      "cell_type": "markdown",
      "metadata": {
        "id": "xwg1TVdTzK9I",
        "colab_type": "text"
      },
      "source": [
        "##Previsões com novos dados"
      ]
    },
    {
      "cell_type": "code",
      "metadata": {
        "id": "YPbX56Y2zdl2",
        "colab_type": "code",
        "colab": {}
      },
      "source": [
        "%%R\n",
        "# Preparando dados de entrada\n",
        "Year = c(2006, 2007, 2008)\n",
        "Lag1 = c(1.30, 0.09, -0.654)\n",
        "Lag2 = c(1.483, -0.198, 0.589)\n",
        "Lag3 = c(-0.345, 0.029, 0.690)\n",
        "Lag4 = c(1.398, 0.104, 1.483)\n",
        "Lag5 = c(0.214, 0.105, 0.589)\n",
        "Volume = c(1.36890, 1.09876, 1.231233)\n",
        "Today = c(0.289, -0.497, 1.649)"
      ],
      "execution_count": 47,
      "outputs": []
    },
    {
      "cell_type": "code",
      "metadata": {
        "id": "nnfAxXMhzkPD",
        "colab_type": "code",
        "colab": {
          "base_uri": "https://localhost:8080/",
          "height": 88
        },
        "outputId": "e9e45dc3-9bb1-4988-a74a-1fc043b11f3d"
      },
      "source": [
        "%%R\n",
        "novos_dados = data.frame(Year, Lag1, Lag2, Lag3, Lag4, Lag5, Volume, Today)\n",
        "novos_dados"
      ],
      "execution_count": 48,
      "outputs": [
        {
          "output_type": "stream",
          "text": [
            "  Year   Lag1   Lag2   Lag3  Lag4  Lag5   Volume  Today\n",
            "1 2006  1.300  1.483 -0.345 1.398 0.214 1.368900  0.289\n",
            "2 2007  0.090 -0.198  0.029 0.104 0.105 1.098760 -0.497\n",
            "3 2008 -0.654  0.589  0.690 1.483 0.589 1.231233  1.649\n"
          ],
          "name": "stdout"
        }
      ]
    },
    {
      "cell_type": "code",
      "metadata": {
        "id": "hqVwQOsczmRv",
        "colab_type": "code",
        "colab": {
          "base_uri": "https://localhost:8080/",
          "height": 177
        },
        "outputId": "08796eb9-44f0-49ba-eab4-4e530c358e3a"
      },
      "source": [
        "%%R\n",
        "str(novos_dados)"
      ],
      "execution_count": 49,
      "outputs": [
        {
          "output_type": "stream",
          "text": [
            "'data.frame':\t3 obs. of  8 variables:\n",
            " $ Year  : num  2006 2007 2008\n",
            " $ Lag1  : num  1.3 0.09 -0.654\n",
            " $ Lag2  : num  1.483 -0.198 0.589\n",
            " $ Lag3  : num  -0.345 0.029 0.69\n",
            " $ Lag4  : num  1.398 0.104 1.483\n",
            " $ Lag5  : num  0.214 0.105 0.589\n",
            " $ Volume: num  1.37 1.1 1.23\n",
            " $ Today : num  0.289 -0.497 1.649\n"
          ],
          "name": "stdout"
        }
      ]
    },
    {
      "cell_type": "code",
      "metadata": {
        "id": "4HBQYzPuzmOT",
        "colab_type": "code",
        "colab": {
          "base_uri": "https://localhost:8080/",
          "height": 35
        },
        "outputId": "400da24b-bd32-461c-cb78-818bf67be100"
      },
      "source": [
        "%%R\n",
        "class(novos_dados)"
      ],
      "execution_count": 50,
      "outputs": [
        {
          "output_type": "stream",
          "text": [
            "[1] \"data.frame\"\n"
          ],
          "name": "stdout"
        }
      ]
    },
    {
      "cell_type": "markdown",
      "metadata": {
        "id": "fWCmfyRdzvyS",
        "colab_type": "text"
      },
      "source": [
        "##Normalizando dados"
      ]
    },
    {
      "cell_type": "markdown",
      "metadata": {
        "id": "EfBhmlCPzziy",
        "colab_type": "text"
      },
      "source": [
        "##Extraindo nomes das variáveis"
      ]
    },
    {
      "cell_type": "code",
      "metadata": {
        "id": "cYQJd61fz4Bi",
        "colab_type": "code",
        "colab": {
          "base_uri": "https://localhost:8080/",
          "height": 35
        },
        "outputId": "4376b82b-2525-4b3c-d03c-02d97db075d1"
      },
      "source": [
        "%%R\n",
        "nomes_variaveis <- colnames(novos_dados)\n",
        "nomes_variaveis"
      ],
      "execution_count": 51,
      "outputs": [
        {
          "output_type": "stream",
          "text": [
            "[1] \"Year\"   \"Lag1\"   \"Lag2\"   \"Lag3\"   \"Lag4\"   \"Lag5\"   \"Volume\" \"Today\" \n"
          ],
          "name": "stdout"
        }
      ]
    },
    {
      "cell_type": "markdown",
      "metadata": {
        "id": "v9SX4vSF1YFL",
        "colab_type": "text"
      },
      "source": [
        "##Aplicando a função\n"
      ]
    },
    {
      "cell_type": "code",
      "metadata": {
        "id": "lasTFP3-1dQV",
        "colab_type": "code",
        "colab": {
          "base_uri": "https://localhost:8080/",
          "height": 159
        },
        "outputId": "a7c2b538-ed18-456a-d76e-60b45b60ebd8"
      },
      "source": [
        "%%R\n",
        "novos_dados_scaled <- scale.features(novos_dados, nomes_variaveis)\n",
        "novos_dados_scaled"
      ],
      "execution_count": 52,
      "outputs": [
        {
          "output_type": "stream",
          "text": [
            "  Year       Lag1        Lag2       Lag3       Lag4       Lag5      Volume\n",
            "1   -1  1.0694055  1.02052862 -0.8961565  0.5214816 -0.3492321  1.00634702\n",
            "2    0 -0.1575041 -0.97812219 -0.1825386 -1.1529531 -0.7785512 -0.99352976\n",
            "3    1 -0.9119014 -0.04240643  1.0786951  0.6314715  1.1277832 -0.01281726\n",
            "       Today\n",
            "1 -0.1762273\n",
            "2 -0.9001717\n",
            "3  1.0763990\n"
          ],
          "name": "stdout"
        }
      ]
    },
    {
      "cell_type": "code",
      "metadata": {
        "id": "Yos_QZt71dMs",
        "colab_type": "code",
        "colab": {
          "base_uri": "https://localhost:8080/",
          "height": 461
        },
        "outputId": "46c98699-c356-43a6-9c5b-a827a799fbc6"
      },
      "source": [
        "%%R\n",
        "str(novos_dados_scaled)"
      ],
      "execution_count": 55,
      "outputs": [
        {
          "output_type": "stream",
          "text": [
            "'data.frame':\t3 obs. of  8 variables:\n",
            " $ Year  : num [1:3, 1] -1 0 1\n",
            "  ..- attr(*, \"scaled:center\")= num 2007\n",
            "  ..- attr(*, \"scaled:scale\")= num 1\n",
            " $ Lag1  : num [1:3, 1] 1.069 -0.158 -0.912\n",
            "  ..- attr(*, \"scaled:center\")= num 0.245\n",
            "  ..- attr(*, \"scaled:scale\")= num 0.986\n",
            " $ Lag2  : num [1:3, 1] 1.0205 -0.9781 -0.0424\n",
            "  ..- attr(*, \"scaled:center\")= num 0.625\n",
            "  ..- attr(*, \"scaled:scale\")= num 0.841\n",
            " $ Lag3  : num [1:3, 1] -0.896 -0.183 1.079\n",
            "  ..- attr(*, \"scaled:center\")= num 0.125\n",
            "  ..- attr(*, \"scaled:scale\")= num 0.524\n",
            " $ Lag4  : num [1:3, 1] 0.521 -1.153 0.631\n",
            "  ..- attr(*, \"scaled:center\")= num 0.995\n",
            "  ..- attr(*, \"scaled:scale\")= num 0.773\n",
            " $ Lag5  : num [1:3, 1] -0.349 -0.779 1.128\n",
            "  ..- attr(*, \"scaled:center\")= num 0.303\n",
            "  ..- attr(*, \"scaled:scale\")= num 0.254\n",
            " $ Volume: num [1:3, 1] 1.0063 -0.9935 -0.0128\n",
            "  ..- attr(*, \"scaled:center\")= num 1.23\n",
            "  ..- attr(*, \"scaled:scale\")= num 0.135\n",
            " $ Today : num [1:3, 1] -0.176 -0.9 1.076\n",
            "  ..- attr(*, \"scaled:center\")= num 0.48\n",
            "  ..- attr(*, \"scaled:scale\")= num 1.09\n"
          ],
          "name": "stdout"
        }
      ]
    },
    {
      "cell_type": "code",
      "metadata": {
        "id": "jShb2caw1c1y",
        "colab_type": "code",
        "colab": {
          "base_uri": "https://localhost:8080/",
          "height": 35
        },
        "outputId": "04f9e601-5703-44d7-ac86-c93eb0595c5b"
      },
      "source": [
        "%%R\n",
        "class(novos_dados_scaled)"
      ],
      "execution_count": 54,
      "outputs": [
        {
          "output_type": "stream",
          "text": [
            "[1] \"data.frame\"\n"
          ],
          "name": "stdout"
        }
      ]
    },
    {
      "cell_type": "markdown",
      "metadata": {
        "id": "0aP_AUJX2Eya",
        "colab_type": "text"
      },
      "source": [
        "##Fazendo previsões"
      ]
    },
    {
      "cell_type": "code",
      "metadata": {
        "id": "8ZJlIuCQtF2n",
        "colab_type": "code",
        "colab": {
          "base_uri": "https://localhost:8080/",
          "height": 124
        },
        "outputId": "fd46d9b6-6a02-4527-9282-31a754d47329"
      },
      "source": [
        "%%R\n",
        "knnPredict <- predict(knn_v2, newdata = novos_dados_scaled)\n",
        "cat(sprintf(\"\\n Previsão de \\\"%s\\\" é \\\"%s\\\"\\n\", novos_dados$Year, knnPredict))"
      ],
      "execution_count": 53,
      "outputs": [
        {
          "output_type": "stream",
          "text": [
            "\n",
            " Previsão de \"2006\" é \"Down\"\n",
            " \n",
            " Previsão de \"2007\" é \"Down\"\n",
            " \n",
            " Previsão de \"2008\" é \"Up\"\n"
          ],
          "name": "stdout"
        }
      ]
    }
  ]
}